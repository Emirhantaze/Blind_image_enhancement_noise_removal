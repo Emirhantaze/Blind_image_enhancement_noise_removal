{
 "metadata": {
  "language_info": {
   "codemirror_mode": {
    "name": "ipython",
    "version": 3
   },
   "file_extension": ".py",
   "mimetype": "text/x-python",
   "name": "python",
   "nbconvert_exporter": "python",
   "pygments_lexer": "ipython3",
   "version": "3.8.8"
  },
  "orig_nbformat": 2,
  "kernelspec": {
   "name": "python388jvsc74a57bd034735be5f6e48777f1d0e28dd263e8076b8a0ecc0a47f209eb9f0c3acd61578c",
   "display_name": "Python 3.8.8 64-bit ('keras': conda)"
  },
  "metadata": {
   "interpreter": {
    "hash": "34735be5f6e48777f1d0e28dd263e8076b8a0ecc0a47f209eb9f0c3acd61578c"
   }
  }
 },
 "nbformat": 4,
 "nbformat_minor": 2,
 "cells": [
  {
   "cell_type": "code",
   "execution_count": null,
   "metadata": {},
   "outputs": [],
   "source": []
  }
 ]
}